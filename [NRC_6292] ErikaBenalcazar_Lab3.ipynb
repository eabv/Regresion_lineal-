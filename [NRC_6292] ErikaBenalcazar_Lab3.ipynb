{
 "cells": [
  {
   "cell_type": "code",
   "execution_count": null,
   "id": "27156f07",
   "metadata": {},
   "outputs": [],
   "source": [
    "'''Importar Librerías'''\n",
    "#Importar la librería pandas\n",
    "import pandas as pd\n",
    "#Importar la librería numpy\n",
    "import numpy as np\n",
    "#Importar la librería Matplot\n",
    "import matplotlib.pyplot as plt\n",
    "from matplotlib import style\n",
    "#Importar la librería seaborn\n",
    "import seaborn as sns \n",
    "\n",
    "from scipy.stats import pearsonr\n",
    "from sklearn.linear_model import LinearRegression\n",
    "from sklearn.model_selection import train_test_split\n",
    "from sklearn import metrics "
   ]
  },
  {
   "cell_type": "code",
   "execution_count": null,
   "id": "ea47e26f",
   "metadata": {},
   "outputs": [],
   "source": [
    "'''Cargar el dataset por medio del URL'''\n",
    "#Url del dataset\n",
    "url = \"https://raw.githubusercontent.com/eabv/Regresion_lineal-/main/insurance.csv\"\n",
    "#Cargar los datos en la base a la URL del dataset\n",
    "df = pd.read_csv(url)\n",
    "#Mostrar 5 datos aleatorios\n",
    "df.sample(5)"
   ]
  }
 ],
 "metadata": {
  "kernelspec": {
   "display_name": "Python 3 (ipykernel)",
   "language": "python",
   "name": "python3"
  },
  "language_info": {
   "codemirror_mode": {
    "name": "ipython",
    "version": 3
   },
   "file_extension": ".py",
   "mimetype": "text/x-python",
   "name": "python",
   "nbconvert_exporter": "python",
   "pygments_lexer": "ipython3",
   "version": "3.9.12"
  }
 },
 "nbformat": 4,
 "nbformat_minor": 5
}
